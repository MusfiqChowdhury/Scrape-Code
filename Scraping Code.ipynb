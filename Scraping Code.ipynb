{
 "cells": [
  {
   "cell_type": "code",
   "execution_count": 2,
   "id": "3bcab0c1",
   "metadata": {},
   "outputs": [
    {
     "name": "stdout",
     "output_type": "stream",
     "text": [
      "Defaulting to user installation because normal site-packages is not writeable\n",
      "Requirement already satisfied: beautifulsoup4 in c:\\programdata\\anaconda3\\lib\\site-packages (4.12.2)\n",
      "Requirement already satisfied: soupsieve>1.2 in c:\\programdata\\anaconda3\\lib\\site-packages (from beautifulsoup4) (2.4)\n",
      "Note: you may need to restart the kernel to use updated packages.\n"
     ]
    }
   ],
   "source": [
    "pip install beautifulsoup4\n"
   ]
  },
  {
   "cell_type": "code",
   "execution_count": 3,
   "id": "2fcf4641",
   "metadata": {},
   "outputs": [
    {
     "name": "stdout",
     "output_type": "stream",
     "text": [
      "Defaulting to user installation because normal site-packages is not writeable\n",
      "Requirement already satisfied: requests in c:\\programdata\\anaconda3\\lib\\site-packages (2.31.0)\n",
      "Requirement already satisfied: charset-normalizer<4,>=2 in c:\\programdata\\anaconda3\\lib\\site-packages (from requests) (2.0.4)\n",
      "Requirement already satisfied: idna<4,>=2.5 in c:\\programdata\\anaconda3\\lib\\site-packages (from requests) (3.4)\n",
      "Requirement already satisfied: urllib3<3,>=1.21.1 in c:\\users\\asus\\appdata\\roaming\\python\\python311\\site-packages (from requests) (2.4.0)\n",
      "Requirement already satisfied: certifi>=2017.4.17 in c:\\users\\asus\\appdata\\roaming\\python\\python311\\site-packages (from requests) (2025.6.15)\n",
      "Note: you may need to restart the kernel to use updated packages.\n"
     ]
    }
   ],
   "source": [
    "pip install requests"
   ]
  },
  {
   "cell_type": "code",
   "execution_count": 1,
   "id": "1515161d",
   "metadata": {},
   "outputs": [
    {
     "name": "stdout",
     "output_type": "stream",
     "text": [
      "\n",
      "✅ Scraped 90 results and saved to:\n",
      "📂 D:\\paper\\paper1\\digital_twin.csv\n"
     ]
    }
   ],
   "source": [
    "import requests\n",
    "from bs4 import BeautifulSoup\n",
    "import time\n",
    "import csv\n",
    "import os\n",
    "\n",
    "def scrape_google_scholar(query, keywords=None, num_pages=1, output_csv=\"results.csv\"):\n",
    "    headers = {\n",
    "        \"User-Agent\": \"Mozilla/5.0 (Windows NT 10.0; Win64; x64) AppleWebKit/537.36 (KHTML, like Gecko) Chrome/114.0.0.0 Safari/537.36\"\n",
    "    }\n",
    "\n",
    "    base_url = \"https://scholar.google.com/scholar\"\n",
    "    all_results = []\n",
    "\n",
    "    for page in range(num_pages):\n",
    "        params = {\n",
    "            \"q\": query,\n",
    "            \"start\": page * 10  # 10 results per page\n",
    "        }\n",
    "\n",
    "        response = requests.get(base_url, params=params, headers=headers)\n",
    "        soup = BeautifulSoup(response.text, \"html.parser\")\n",
    "        results = soup.select(\".gs_ri\")\n",
    "\n",
    "        for result in results:\n",
    "            title_tag = result.select_one(\".gs_rt\")\n",
    "            title = title_tag.get_text(strip=True) if title_tag else \"No title\"\n",
    "\n",
    "            link_tag = title_tag.find(\"a\") if title_tag else None\n",
    "            link = link_tag[\"href\"] if link_tag and link_tag.has_attr(\"href\") else \"No link\"\n",
    "\n",
    "            snippet_tag = result.select_one(\".gs_rs\")\n",
    "            snippet = snippet_tag.get_text(strip=True) if snippet_tag else \"No snippet\"\n",
    "\n",
    "            meta_tag = result.select_one(\".gs_a\")\n",
    "            meta_text = meta_tag.get_text(strip=True) if meta_tag else \"\"\n",
    "            authors = meta_text.split(\" - \")[0] if \" - \" in meta_text else \"No author info\"\n",
    "\n",
    "            # Filter by keyword match in title or snippet (optional)\n",
    "            if keywords:\n",
    "                text_combined = (title + snippet).lower()\n",
    "                if not any(keyword.lower() in text_combined for keyword in keywords):\n",
    "                    continue  # Skip if no keywords matched\n",
    "\n",
    "            all_results.append({\n",
    "                \"Title\": title,\n",
    "                \"Authors\": authors,\n",
    "                \"Link\": link,\n",
    "                \"Snippet\": snippet\n",
    "            })\n",
    "\n",
    "        time.sleep(1)  # Avoid being blocked\n",
    "\n",
    "    # Ensure output folder exists\n",
    "    os.makedirs(os.path.dirname(output_csv), exist_ok=True)\n",
    "\n",
    "    # Save to CSV\n",
    "    with open(output_csv, mode='w', newline='', encoding='utf-8') as file:\n",
    "        writer = csv.DictWriter(file, fieldnames=[\"Title\", \"Authors\", \"Link\", \"Snippet\"])\n",
    "        writer.writeheader()\n",
    "        writer.writerows(all_results)\n",
    "\n",
    "    abs_path = os.path.abspath(output_csv)\n",
    "    print(f\"\\n✅ Scraped {len(all_results)} results and saved to:\\n📂 {abs_path}\")\n",
    "\n",
    "\n",
    "if __name__ == \"__main__\":\n",
    "    main_query = \"Digital Twin in Industry\"\n",
    "    keyword_list = [\"Digital Twin\", \"Industry\"]\n",
    "\n",
    "    # ✅ Save to D:\\paper\\paper\n",
    "    output_path = r\"D:\\paper\\paper1\\digital_twin.csv\"\n",
    "\n",
    "    scrape_google_scholar(query=main_query, keywords=keyword_list, num_pages=10, output_csv=output_path)\n"
   ]
  },
  {
   "cell_type": "code",
   "execution_count": 2,
   "id": "31c2348e",
   "metadata": {},
   "outputs": [
    {
     "data": {
      "text/plain": [
       "'C:\\\\Users\\\\ASUS'"
      ]
     },
     "execution_count": 2,
     "metadata": {},
     "output_type": "execute_result"
    }
   ],
   "source": [
    "pwd"
   ]
  },
  {
   "cell_type": "code",
   "execution_count": null,
   "id": "f97f630e",
   "metadata": {},
   "outputs": [],
   "source": []
  }
 ],
 "metadata": {
  "kernelspec": {
   "display_name": "Python 3 (ipykernel)",
   "language": "python",
   "name": "python3"
  },
  "language_info": {
   "codemirror_mode": {
    "name": "ipython",
    "version": 3
   },
   "file_extension": ".py",
   "mimetype": "text/x-python",
   "name": "python",
   "nbconvert_exporter": "python",
   "pygments_lexer": "ipython3",
   "version": "3.11.5"
  }
 },
 "nbformat": 4,
 "nbformat_minor": 5
}
